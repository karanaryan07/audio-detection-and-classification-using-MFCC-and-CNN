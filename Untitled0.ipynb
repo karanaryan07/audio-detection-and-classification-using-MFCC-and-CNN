{
  "nbformat": 4,
  "nbformat_minor": 0,
  "metadata": {
    "colab": {
      "name": "Untitled0.ipynb",
      "provenance": [],
      "include_colab_link": true
    },
    "kernelspec": {
      "name": "python3",
      "display_name": "Python 3"
    },
    "accelerator": "GPU"
  },
  "cells": [
    {
      "cell_type": "markdown",
      "metadata": {
        "id": "view-in-github",
        "colab_type": "text"
      },
      "source": [
        "<a href=\"https://colab.research.google.com/github/karanaryan07/audio-detection-and-classification-using-MFCC-and-CNN/blob/master/Untitled0.ipynb\" target=\"_parent\"><img src=\"https://colab.research.google.com/assets/colab-badge.svg\" alt=\"Open In Colab\"/></a>"
      ]
    },
    {
      "cell_type": "code",
      "metadata": {
        "id": "EcikeofY0mwd",
        "colab_type": "code",
        "outputId": "f87fa463-d220-401f-8433-9e1b2882c4d8",
        "colab": {
          "base_uri": "https://localhost:8080/",
          "height": 56
        }
      },
      "source": [
        "\n",
        "from google.colab import drive\n",
        "\n",
        "drive.mount('/content/drive')"
      ],
      "execution_count": 15,
      "outputs": [
        {
          "output_type": "stream",
          "text": [
            "Drive already mounted at /content/drive; to attempt to forcibly remount, call drive.mount(\"/content/drive\", force_remount=True).\n"
          ],
          "name": "stdout"
        }
      ]
    },
    {
      "cell_type": "code",
      "metadata": {
        "id": "eXbaCBkdCO-e",
        "colab_type": "code",
        "outputId": "8cce7a54-e37a-4cd1-fd29-33b7ae499355",
        "colab": {
          "base_uri": "https://localhost:8080/",
          "height": 36
        }
      },
      "source": [
        "ls"
      ],
      "execution_count": 16,
      "outputs": [
        {
          "output_type": "stream",
          "text": [
            "\u001b[0m\u001b[01;34mdataset\u001b[0m/  Untitled0.ipynb\n"
          ],
          "name": "stdout"
        }
      ]
    },
    {
      "cell_type": "code",
      "metadata": {
        "id": "4bP0g13R1InH",
        "colab_type": "code",
        "outputId": "473fe1e0-674a-4f1f-fce3-5cb20188510f",
        "colab": {
          "base_uri": "https://localhost:8080/",
          "height": 53
        }
      },
      "source": [
        ""
      ],
      "execution_count": 0,
      "outputs": [
        {
          "output_type": "stream",
          "text": [
            "[Errno 2] No such file or directory: 'drive'\n",
            "/content/drive/My Drive/project\n"
          ],
          "name": "stdout"
        }
      ]
    },
    {
      "cell_type": "code",
      "metadata": {
        "id": "pItQZFPz1JX3",
        "colab_type": "code",
        "outputId": "81475f1d-afac-4d62-8ed2-91f6fdf51203",
        "colab": {
          "base_uri": "https://localhost:8080/",
          "height": 35
        }
      },
      "source": [
        "ls\n"
      ],
      "execution_count": 0,
      "outputs": [
        {
          "output_type": "stream",
          "text": [
            "\u001b[0m\u001b[01;34m'My Drive'\u001b[0m/\n"
          ],
          "name": "stdout"
        }
      ]
    },
    {
      "cell_type": "code",
      "metadata": {
        "id": "zDHkljw61NDP",
        "colab_type": "code",
        "outputId": "5b2d6c56-80e8-4eec-e382-a02bb2382a7f",
        "colab": {
          "base_uri": "https://localhost:8080/",
          "height": 53
        }
      },
      "source": [
        "cd 'My Drive'"
      ],
      "execution_count": 0,
      "outputs": [
        {
          "output_type": "stream",
          "text": [
            "[Errno 2] No such file or directory: 'My Drive'\n",
            "/content/drive/My Drive/project\n"
          ],
          "name": "stdout"
        }
      ]
    },
    {
      "cell_type": "code",
      "metadata": {
        "id": "Ws6HtzV11QwX",
        "colab_type": "code",
        "outputId": "ffa9fc96-c3bc-4ea4-bb74-a76b99123d34",
        "colab": {
          "base_uri": "https://localhost:8080/",
          "height": 199
        }
      },
      "source": [
        "ls\n"
      ],
      "execution_count": 0,
      "outputs": [
        {
          "output_type": "stream",
          "text": [
            "\u001b[0m\u001b[01;34m'Colab Notebooks'\u001b[0m/                             track.wav\n",
            "'Copy of Fest Dates.gsheet'                    VID_20180113_111005.mp4\n",
            "'Copy of IMG_1079.MOV'                         VID_20180120_114626.mp4\n",
            " \u001b[01;34mdataset\u001b[0m/                                      VID_20180122_190706.mp4\n",
            " Details.gsheet                                VID_20180128_165204.mp4\n",
            "'freshers rough track newest2.mp4'             VID_20180128_165242.mp4\n",
            "'Prashant Singh - Letter of Completion.gdoc'   VID_20180128_165322.mp4\n",
            " \u001b[01;34mproject\u001b[0m/                                      VID_20180129_094511704.mp4\n",
            " pyaar.mp4                                    \u001b[01;34m'videos!!'\u001b[0m/\n",
            " Resume.gdoc\n"
          ],
          "name": "stdout"
        }
      ]
    },
    {
      "cell_type": "code",
      "metadata": {
        "id": "QFWBF2aO1SoS",
        "colab_type": "code",
        "outputId": "36f8c9d8-ae3e-49ed-b8ad-1aae27a827e0",
        "colab": {
          "base_uri": "https://localhost:8080/",
          "height": 35
        }
      },
      "source": [
        "cd 'project'"
      ],
      "execution_count": 0,
      "outputs": [
        {
          "output_type": "stream",
          "text": [
            "/content/drive/My Drive/project\n"
          ],
          "name": "stdout"
        }
      ]
    },
    {
      "cell_type": "code",
      "metadata": {
        "id": "eWdeunwl1VjZ",
        "colab_type": "code",
        "outputId": "1b152fdd-4060-4b3a-9a07-1e779072db78",
        "colab": {
          "base_uri": "https://localhost:8080/",
          "height": 35
        }
      },
      "source": [
        "ls\n"
      ],
      "execution_count": 0,
      "outputs": [
        {
          "output_type": "stream",
          "text": [
            "\u001b[0m\u001b[01;34mdataset\u001b[0m/  Untitled0.ipynb\n"
          ],
          "name": "stdout"
        }
      ]
    },
    {
      "cell_type": "code",
      "metadata": {
        "id": "q0m6Quh_1Wwn",
        "colab_type": "code",
        "colab": {}
      },
      "source": [
        "from keras.models import Sequential"
      ],
      "execution_count": 0,
      "outputs": []
    },
    {
      "cell_type": "code",
      "metadata": {
        "id": "nn-4Zkp21lqF",
        "colab_type": "code",
        "colab": {}
      },
      "source": [
        "from keras.layers import Convolution2D\n",
        "from keras.layers import MaxPooling2D\n",
        "from keras.layers import Flatten \n",
        "from keras.layers import Dense"
      ],
      "execution_count": 0,
      "outputs": []
    },
    {
      "cell_type": "code",
      "metadata": {
        "id": "X1SbCR0Q3Zf9",
        "colab_type": "code",
        "colab": {}
      },
      "source": [
        "\n",
        "classifier = Sequential()"
      ],
      "execution_count": 0,
      "outputs": []
    },
    {
      "cell_type": "code",
      "metadata": {
        "id": "X0z-BXEBLc_Q",
        "colab_type": "code",
        "colab": {
          "base_uri": "https://localhost:8080/",
          "height": 185
        },
        "outputId": "0af37b0b-cb50-447f-a03e-3c4eb80ba0de"
      },
      "source": [
        "classifier.add(Convolution2D(32, 3, 3, input_shape = (64, 64, 3), activation = 'relu'))\n",
        "\n",
        "# Step 2 - Pooling\n",
        "classifier.add(MaxPooling2D(pool_size = (2, 2)))\n",
        "\n",
        "# Adding a second convolutional layer\n",
        "classifier.add(Convolution2D(32, 3, 3, activation = 'relu'))\n",
        "classifier.add(MaxPooling2D(pool_size = (2, 2)))\n",
        "\n",
        "# Step 3 - Flattening\n",
        "classifier.add(Flatten())\n",
        "\n",
        "# Step 4 - Full connection\n",
        "classifier.add(Dense(output_dim = 128, activation = 'relu'))\n",
        "classifier.add(Dense(output_dim = 1, activation = 'sigmoid'))\n",
        "\n",
        "# Compiling the CNN\n",
        "classifier.compile(optimizer = 'adam', loss = 'binary_crossentropy', metrics = ['accuracy'])"
      ],
      "execution_count": 22,
      "outputs": [
        {
          "output_type": "stream",
          "text": [
            "/usr/local/lib/python3.6/dist-packages/ipykernel_launcher.py:1: UserWarning: Update your `Conv2D` call to the Keras 2 API: `Conv2D(32, (3, 3), input_shape=(64, 64, 3..., activation=\"relu\")`\n",
            "  \"\"\"Entry point for launching an IPython kernel.\n",
            "/usr/local/lib/python3.6/dist-packages/ipykernel_launcher.py:7: UserWarning: Update your `Conv2D` call to the Keras 2 API: `Conv2D(32, (3, 3), activation=\"relu\")`\n",
            "  import sys\n",
            "/usr/local/lib/python3.6/dist-packages/ipykernel_launcher.py:14: UserWarning: Update your `Dense` call to the Keras 2 API: `Dense(activation=\"relu\", units=128)`\n",
            "  \n",
            "/usr/local/lib/python3.6/dist-packages/ipykernel_launcher.py:15: UserWarning: Update your `Dense` call to the Keras 2 API: `Dense(activation=\"sigmoid\", units=1)`\n",
            "  from ipykernel import kernelapp as app\n"
          ],
          "name": "stderr"
        }
      ]
    },
    {
      "cell_type": "code",
      "metadata": {
        "id": "7U8mCyK_LgFi",
        "colab_type": "code",
        "colab": {}
      },
      "source": [
        "from keras.preprocessing.image import ImageDataGenerator"
      ],
      "execution_count": 0,
      "outputs": []
    },
    {
      "cell_type": "code",
      "metadata": {
        "id": "oZHPiaVDL4ro",
        "colab_type": "code",
        "colab": {}
      },
      "source": [
        "train_datagen = ImageDataGenerator(rescale = 1./255,\n",
        "                                   shear_range = 0.2,\n",
        "                                   zoom_range = 0.2,\n",
        "                                   horizontal_flip = True)\n"
      ],
      "execution_count": 0,
      "outputs": []
    },
    {
      "cell_type": "code",
      "metadata": {
        "id": "Ub3rGV5aMFbd",
        "colab_type": "code",
        "colab": {}
      },
      "source": [
        "test_datagen = ImageDataGenerator(rescale = 1./255)"
      ],
      "execution_count": 0,
      "outputs": []
    },
    {
      "cell_type": "code",
      "metadata": {
        "id": "65SfBnZaMPGI",
        "colab_type": "code",
        "colab": {
          "base_uri": "https://localhost:8080/",
          "height": 36
        },
        "outputId": "62c6cc7d-83a1-4e3d-970f-1b1070366d13"
      },
      "source": [
        "training_set = train_datagen.flow_from_directory('dataset/training_set',\n",
        "                                                 target_size = (64, 64),\n",
        "                                                 batch_size = 16,\n",
        "                                                 class_mode = 'binary')"
      ],
      "execution_count": 32,
      "outputs": [
        {
          "output_type": "stream",
          "text": [
            "Found 160 images belonging to 2 classes.\n"
          ],
          "name": "stdout"
        }
      ]
    },
    {
      "cell_type": "code",
      "metadata": {
        "id": "Asjq33vWMWnQ",
        "colab_type": "code",
        "colab": {
          "base_uri": "https://localhost:8080/",
          "height": 36
        },
        "outputId": "7dfbc19b-099a-4362-fdf6-f701795bd528"
      },
      "source": [
        "\n",
        "test_set = test_datagen.flow_from_directory('dataset/test_set',\n",
        "                                            target_size = (64, 64),\n",
        "                                            batch_size = 16,\n",
        "                                            class_mode = 'binary')"
      ],
      "execution_count": 33,
      "outputs": [
        {
          "output_type": "stream",
          "text": [
            "Found 56 images belonging to 2 classes.\n"
          ],
          "name": "stdout"
        }
      ]
    },
    {
      "cell_type": "code",
      "metadata": {
        "id": "694ZeUo-MeyL",
        "colab_type": "code",
        "colab": {
          "base_uri": "https://localhost:8080/",
          "height": 1000
        },
        "outputId": "0c66d93b-f880-4195-e066-37be744fae39"
      },
      "source": [
        "\n",
        "classifier.fit_generator(training_set,\n",
        "                         samples_per_epoch = 80,\n",
        "                         nb_epoch = 25,\n",
        "                         validation_data = test_set,\n",
        "                         nb_val_samples = 28)"
      ],
      "execution_count": 34,
      "outputs": [
        {
          "output_type": "stream",
          "text": [
            "/usr/local/lib/python3.6/dist-packages/ipykernel_launcher.py:6: UserWarning: The semantics of the Keras 2 argument `steps_per_epoch` is not the same as the Keras 1 argument `samples_per_epoch`. `steps_per_epoch` is the number of batches to draw from the generator at each epoch. Basically steps_per_epoch = samples_per_epoch/batch_size. Similarly `nb_val_samples`->`validation_steps` and `val_samples`->`steps` arguments have changed. Update your method calls accordingly.\n",
            "  \n",
            "/usr/local/lib/python3.6/dist-packages/ipykernel_launcher.py:6: UserWarning: Update your `fit_generator` call to the Keras 2 API: `fit_generator(<keras_pre..., validation_data=<keras_pre..., steps_per_epoch=5, epochs=25, validation_steps=28)`\n",
            "  \n"
          ],
          "name": "stderr"
        },
        {
          "output_type": "stream",
          "text": [
            "Epoch 1/25\n",
            "5/5 [==============================] - 4s 714ms/step - loss: 0.0447 - acc: 0.9875 - val_loss: 0.1177 - val_acc: 0.9464\n",
            "Epoch 2/25\n",
            "5/5 [==============================] - 4s 708ms/step - loss: 0.0139 - acc: 1.0000 - val_loss: 0.0817 - val_acc: 0.9643\n",
            "Epoch 3/25\n",
            "5/5 [==============================] - 3s 558ms/step - loss: 0.0272 - acc: 0.9875 - val_loss: 0.1335 - val_acc: 0.9286\n",
            "Epoch 4/25\n",
            "5/5 [==============================] - 3s 682ms/step - loss: 0.0272 - acc: 0.9875 - val_loss: 0.1371 - val_acc: 0.9286\n",
            "Epoch 5/25\n",
            "5/5 [==============================] - 3s 587ms/step - loss: 0.0069 - acc: 1.0000 - val_loss: 0.0858 - val_acc: 0.9643\n",
            "Epoch 6/25\n",
            "5/5 [==============================] - 3s 682ms/step - loss: 0.0082 - acc: 1.0000 - val_loss: 0.0761 - val_acc: 0.9643\n",
            "Epoch 7/25\n",
            "5/5 [==============================] - 3s 563ms/step - loss: 0.0184 - acc: 1.0000 - val_loss: 0.0701 - val_acc: 0.9643\n",
            "Epoch 8/25\n",
            "5/5 [==============================] - 3s 684ms/step - loss: 0.0250 - acc: 0.9875 - val_loss: 0.1234 - val_acc: 0.9464\n",
            "Epoch 9/25\n",
            "5/5 [==============================] - 3s 559ms/step - loss: 0.0105 - acc: 1.0000 - val_loss: 0.0593 - val_acc: 0.9643\n",
            "Epoch 10/25\n",
            "5/5 [==============================] - 3s 686ms/step - loss: 0.0209 - acc: 0.9875 - val_loss: 0.2348 - val_acc: 0.8929\n",
            "Epoch 11/25\n",
            "5/5 [==============================] - 3s 562ms/step - loss: 0.0461 - acc: 0.9625 - val_loss: 0.0275 - val_acc: 1.0000\n",
            "Epoch 12/25\n",
            "5/5 [==============================] - 4s 700ms/step - loss: 0.0381 - acc: 0.9875 - val_loss: 0.2372 - val_acc: 0.8929\n",
            "Epoch 13/25\n",
            "5/5 [==============================] - 3s 563ms/step - loss: 0.0146 - acc: 1.0000 - val_loss: 0.2699 - val_acc: 0.8929\n",
            "Epoch 14/25\n",
            "5/5 [==============================] - 4s 704ms/step - loss: 0.0323 - acc: 0.9875 - val_loss: 0.0519 - val_acc: 0.9643\n",
            "Epoch 15/25\n",
            "5/5 [==============================] - 3s 563ms/step - loss: 0.0107 - acc: 1.0000 - val_loss: 0.0683 - val_acc: 0.9643\n",
            "Epoch 16/25\n",
            "5/5 [==============================] - 4s 701ms/step - loss: 0.0244 - acc: 0.9875 - val_loss: 0.0898 - val_acc: 0.9643\n",
            "Epoch 17/25\n",
            "5/5 [==============================] - 3s 563ms/step - loss: 0.0134 - acc: 1.0000 - val_loss: 0.1404 - val_acc: 0.9286\n",
            "Epoch 18/25\n",
            "5/5 [==============================] - 4s 700ms/step - loss: 0.0183 - acc: 0.9875 - val_loss: 0.2202 - val_acc: 0.9107\n",
            "Epoch 19/25\n",
            "5/5 [==============================] - 3s 566ms/step - loss: 0.0311 - acc: 0.9875 - val_loss: 0.0751 - val_acc: 0.9643\n",
            "Epoch 20/25\n",
            "5/5 [==============================] - 3s 683ms/step - loss: 0.0070 - acc: 1.0000 - val_loss: 0.3059 - val_acc: 0.8929\n",
            "Epoch 21/25\n",
            "5/5 [==============================] - 3s 560ms/step - loss: 0.0180 - acc: 0.9875 - val_loss: 0.1949 - val_acc: 0.9107\n",
            "Epoch 22/25\n",
            "5/5 [==============================] - 3s 683ms/step - loss: 0.0138 - acc: 1.0000 - val_loss: 0.0298 - val_acc: 1.0000\n",
            "Epoch 23/25\n",
            "5/5 [==============================] - 3s 566ms/step - loss: 0.0304 - acc: 1.0000 - val_loss: 0.3830 - val_acc: 0.8929\n",
            "Epoch 24/25\n",
            "5/5 [==============================] - 3s 681ms/step - loss: 0.0184 - acc: 0.9875 - val_loss: 0.2190 - val_acc: 0.9107\n",
            "Epoch 25/25\n",
            "5/5 [==============================] - 3s 561ms/step - loss: 0.0219 - acc: 1.0000 - val_loss: 0.0255 - val_acc: 1.0000\n"
          ],
          "name": "stdout"
        },
        {
          "output_type": "execute_result",
          "data": {
            "text/plain": [
              "<keras.callbacks.History at 0x7fe184fe70b8>"
            ]
          },
          "metadata": {
            "tags": []
          },
          "execution_count": 34
        }
      ]
    },
    {
      "cell_type": "code",
      "metadata": {
        "id": "QhE-vzBJMjTC",
        "colab_type": "code",
        "colab": {}
      },
      "source": [
        ""
      ],
      "execution_count": 0,
      "outputs": []
    }
  ]
}